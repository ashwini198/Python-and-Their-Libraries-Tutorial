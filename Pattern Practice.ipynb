{
 "cells": [
  {
   "cell_type": "code",
   "execution_count": 25,
   "id": "9ad004a1",
   "metadata": {},
   "outputs": [
    {
     "name": "stdout",
     "output_type": "stream",
     "text": [
      "1024\n",
      "59049\n"
     ]
    }
   ],
   "source": [
    "n=int(input())\n",
    "a=1\n",
    "b=1\n",
    "for i in range(1,n+1):\n",
    "    if i%2!=0:\n",
    "        a=a*2\n",
    "    else:\n",
    "        b=b*3\n"
   ]
  },
  {
   "cell_type": "code",
   "execution_count": 42,
   "id": "492cfb9d",
   "metadata": {},
   "outputs": [
    {
     "name": "stdout",
     "output_type": "stream",
     "text": [
      "enter the number: 4\n",
      "2.0\n"
     ]
    }
   ],
   "source": [
    "n = int(input('enter the number: '))\n",
    "a= 1\n",
    "\n",
    "b= 1\n",
    "\n",
    "for i in range(1, n+1):\n",
    "\n",
    "    if(i%2!=0):\n",
    "\n",
    "        a = a*2\n",
    "\n",
    "    else:\n",
    "\n",
    "        b = b*3\n",
    "\n",
    "\n",
    "print(a/2)"
   ]
  },
  {
   "cell_type": "code",
   "execution_count": 50,
   "id": "d3282585",
   "metadata": {},
   "outputs": [
    {
     "name": "stdout",
     "output_type": "stream",
     "text": [
      "3 7\n",
      "21\n"
     ]
    }
   ],
   "source": [
    "X,Y=map(int,(input()).split())\n",
    "print(X*Y)"
   ]
  },
  {
   "cell_type": "code",
   "execution_count": 5,
   "id": "a9af54d8",
   "metadata": {},
   "outputs": [
    {
     "name": "stdout",
     "output_type": "stream",
     "text": [
      "My name is Ashwini Kumar\n",
      "My name is Ashwini Kumar\n"
     ]
    }
   ],
   "source": [
    "a= 'Ashwini'\n",
    "b='Kumar'\n",
    "print(\"My name is {} {}\".format(a,b))\n",
    "print(f\"My name is {a} {b}\")"
   ]
  },
  {
   "cell_type": "code",
   "execution_count": 8,
   "id": "bf46908c",
   "metadata": {},
   "outputs": [
    {
     "name": "stdout",
     "output_type": "stream",
     "text": [
      "Enter the word:malayalam\n",
      "palindrome\n"
     ]
    }
   ],
   "source": [
    "word=input(\"Enter the word:\")\n",
    "opp=word[::-1]\n",
    "if word==opp:\n",
    "    print(\"palindrome\")\n",
    "else:\n",
    "    print(\"no\")"
   ]
  },
  {
   "cell_type": "code",
   "execution_count": 9,
   "id": "b54bf9dd",
   "metadata": {},
   "outputs": [
    {
     "name": "stdout",
     "output_type": "stream",
     "text": [
      "Enter the word:ASHWINI\n",
      "INIWHSA\n"
     ]
    }
   ],
   "source": [
    "word=input(\"Enter the word:\")\n",
    "print(word[::-1])\n"
   ]
  },
  {
   "cell_type": "code",
   "execution_count": 27,
   "id": "571897da",
   "metadata": {},
   "outputs": [
    {
     "data": {
      "text/plain": [
       "False"
      ]
     },
     "execution_count": 27,
     "metadata": {},
     "output_type": "execute_result"
    }
   ],
   "source": [
    "l=['s','p','t']\n",
    "L=[1,4,9,16,25]\n",
    "\"s\" in L"
   ]
  },
  {
   "cell_type": "code",
   "execution_count": 22,
   "id": "4dc8afae",
   "metadata": {},
   "outputs": [
    {
     "data": {
      "text/plain": [
       "['Hello', 'Hello', 'Hello', 'Hello', 'Hello']"
      ]
     },
     "execution_count": 22,
     "metadata": {},
     "output_type": "execute_result"
    }
   ],
   "source": [
    "l=['Hello']\n",
    "l*5"
   ]
  },
  {
   "cell_type": "code",
   "execution_count": 71,
   "id": "881869bc",
   "metadata": {},
   "outputs": [
    {
     "name": "stdout",
     "output_type": "stream",
     "text": [
      "Enter number of rows:5\n",
      "* \n",
      "* * \n",
      "* * * \n",
      "* * * * \n",
      "* * * * * \n"
     ]
    }
   ],
   "source": [
    "row=int(input(\"Enter number of rows:\"))\n",
    "for i in range(1,row+1):\n",
    "    for j in range(1,i+1):\n",
    "\n",
    "        print(\"*\",end=\" \")\n",
    "    print()"
   ]
  },
  {
   "cell_type": "code",
   "execution_count": 72,
   "id": "b2e5a6a4",
   "metadata": {},
   "outputs": [
    {
     "name": "stdout",
     "output_type": "stream",
     "text": [
      "Enter number of rows:3\n",
      "* \n",
      "* * * \n",
      "* * * * * \n"
     ]
    }
   ],
   "source": [
    "row=int(input(\"Enter number of rows:\"))\n",
    "k=1\n",
    "for i in range(1,row+1):\n",
    "    for j in range(1,k+1):\n",
    "#         if i%2!=0:\n",
    "        print(\"*\",end=\" \")\n",
    "    k=k+2\n",
    "    print()"
   ]
  },
  {
   "cell_type": "code",
   "execution_count": 85,
   "id": "b555f556",
   "metadata": {},
   "outputs": [
    {
     "name": "stdout",
     "output_type": "stream",
     "text": [
      "Enter number of rows:10\n",
      "         * \n",
      "        * * \n",
      "       * * * \n",
      "      * * * * \n",
      "     * * * * * \n",
      "    * * * * * * \n",
      "   * * * * * * * \n",
      "  * * * * * * * * \n",
      " * * * * * * * * * \n",
      "* * * * * * * * * * \n"
     ]
    }
   ],
   "source": [
    "row=int(input(\"Enter number of rows:\"))\n",
    "for i in range(0,row):\n",
    "    for j in range(0,row-i-1):\n",
    "        print(end=\" \")\n",
    "    for j in range(0,i+1):\n",
    "        print(\"*\",end=\" \")\n",
    "    print()"
   ]
  },
  {
   "cell_type": "code",
   "execution_count": 94,
   "id": "75f62591",
   "metadata": {},
   "outputs": [
    {
     "name": "stdout",
     "output_type": "stream",
     "text": [
      "Enter number of rows:10\n",
      "* * * * * * * * * * \n",
      " * * * * * * * * * \n",
      "  * * * * * * * * \n",
      "   * * * * * * * \n",
      "    * * * * * * \n",
      "     * * * * * \n",
      "      * * * * \n",
      "       * * * \n",
      "        * * \n",
      "         * \n",
      "          \n"
     ]
    }
   ],
   "source": [
    "row=int(input(\"Enter number of rows:\"))\n",
    "for i in range(0,row+1):\n",
    "    for j in range(i):\n",
    "        print(end=\" \")\n",
    "    for j in range(row-i):\n",
    "        print(\"*\",end=\" \")\n",
    "    print()"
   ]
  },
  {
   "cell_type": "code",
   "execution_count": 99,
   "id": "466dfa14",
   "metadata": {},
   "outputs": [
    {
     "name": "stdout",
     "output_type": "stream",
     "text": [
      "Enter number of rows:5\n",
      "* * * * * \n",
      " * * * * \n",
      "  * * * \n",
      "   * * \n",
      "    * \n"
     ]
    }
   ],
   "source": [
    "row=int(input(\"Enter number of rows:\"))\n",
    "for i in range(row,0,-1):\n",
    "    for j in range(row-i):\n",
    "        print(end=\" \")\n",
    "    for j in range(0,i):\n",
    "        print(\"*\",end=\" \")\n",
    "    print()"
   ]
  },
  {
   "cell_type": "code",
   "execution_count": 102,
   "id": "f9d4aab0",
   "metadata": {},
   "outputs": [
    {
     "name": "stdout",
     "output_type": "stream",
     "text": [
      "Enter number of rows:5\n",
      "    * \n",
      "   * * \n",
      "  * * * \n",
      " * * * * \n",
      "* * * * * \n",
      " * * * * \n",
      "  * * * \n",
      "   * * \n",
      "    * \n"
     ]
    }
   ],
   "source": [
    "row=int(input(\"Enter number of rows:\"))\n",
    "for i in range(row):\n",
    "    for j in range(row-i-1):\n",
    "        print(end=\" \")\n",
    "    for j in range(i+1):\n",
    "        print(\"*\",end=\" \")\n",
    "    print()\n",
    "for k in range(row-1,0,-1):\n",
    "    for l in range(row-k):\n",
    "        print(end=\" \")\n",
    "    for l in range(k):\n",
    "        print(\"*\",end=\" \")\n",
    "    print()"
   ]
  },
  {
   "cell_type": "code",
   "execution_count": 114,
   "id": "fafd2876",
   "metadata": {},
   "outputs": [
    {
     "name": "stdout",
     "output_type": "stream",
     "text": [
      "Enter number of rows:5\n",
      "    * \n",
      "   * * \n",
      "  * * * \n",
      " * * * * \n",
      "* * * * * \n",
      "  * * * * \n",
      "   * * * \n",
      "    * * \n",
      "     * \n"
     ]
    }
   ],
   "source": [
    "def diamond(rows):\n",
    "    for i in range(rows):\n",
    "        print(\" \"*(rows-i-1)+\"* \"*(i+1))\n",
    "    for j in range(rows-1,0,-1):\n",
    "        print(\" \"*(rows-j),\"* \"*(j))\n",
    "diamond(int(input(\"Enter number of rows:\")))"
   ]
  },
  {
   "cell_type": "code",
   "execution_count": 116,
   "id": "641d99f5",
   "metadata": {},
   "outputs": [
    {
     "name": "stdout",
     "output_type": "stream",
     "text": [
      "Enter number of rows:5\n",
      "    * \n",
      "   * * \n",
      "  * * * \n",
      " * * * * \n",
      "* * * * * \n",
      " * * * * \n",
      "  * * * \n",
      "   * * \n",
      "    * \n"
     ]
    }
   ],
   "source": [
    "def diamond(rows):\n",
    "    for i in range(rows):\n",
    "        print(\" \"*(rows-i-1)+\"* \"*(i+1))\n",
    "    for j in range(rows-1,0,-1):\n",
    "        print(\" \"*(rows-j-1),\"* \"*(j))\n",
    "diamond(int(input(\"Enter number of rows:\")))"
   ]
  },
  {
   "cell_type": "code",
   "execution_count": 119,
   "id": "774b6fd5",
   "metadata": {},
   "outputs": [
    {
     "name": "stdout",
     "output_type": "stream",
     "text": [
      "Enter number of rows:5\n",
      "* * * * * \n",
      "* * * * \n",
      "* * * \n",
      "* * \n",
      "* \n"
     ]
    }
   ],
   "source": [
    "row=int(input(\"Enter number of rows:\"))\n",
    "for i in range(row):\n",
    "    for j in range(row-i,0,-1):\n",
    "        print(\"*\",end=\" \")\n",
    "    print()"
   ]
  },
  {
   "cell_type": "code",
   "execution_count": 125,
   "id": "5004a104",
   "metadata": {},
   "outputs": [
    {
     "name": "stdout",
     "output_type": "stream",
     "text": [
      "*****\n",
      "*   *\n",
      "*   *\n",
      "*****\n",
      "*   *\n",
      "*   *\n",
      "*   *\n"
     ]
    }
   ],
   "source": [
    "for row in range(7):\n",
    "    for col in range(5):\n",
    "        if (col==0 or col==4 and row!=0) or (row==0 or row==3 and (0<col<4)):\n",
    "            print(\"*\",end=\"\")\n",
    "        else:\n",
    "            print(end=\" \")\n",
    "    print()"
   ]
  },
  {
   "cell_type": "code",
   "execution_count": 153,
   "id": "b308b011",
   "metadata": {},
   "outputs": [
    {
     "name": "stdout",
     "output_type": "stream",
     "text": [
      "*   *\n",
      "*  * \n",
      "* *  \n",
      "**   \n",
      "* *  \n",
      "*  * \n",
      "*   *\n"
     ]
    }
   ],
   "source": [
    "a=0\n",
    "b=4\n",
    "for i in range(7):\n",
    "    for j in range(5):\n",
    "        if (j==0) or (i-j==2 and j>1):\n",
    "            print(\"*\",end=\"\")\n",
    "        elif (i==a and j==b):\n",
    "            print(\"*\",end=\"\")\n",
    "            a=a+1\n",
    "            b=b-1\n",
    "        else:\n",
    "            print(end=\" \")\n",
    "    print()"
   ]
  },
  {
   "cell_type": "code",
   "execution_count": 156,
   "id": "94b20cc6",
   "metadata": {},
   "outputs": [
    {
     "name": "stdout",
     "output_type": "stream",
     "text": [
      "*    *\n",
      "*   * \n",
      "*  *  \n",
      "* *   \n",
      "**    \n",
      "* *   \n",
      "*  *  \n",
      "*   * \n",
      "*    *\n"
     ]
    }
   ],
   "source": [
    "\n",
    "for i in range(9):\n",
    "    for j in range(6):\n",
    "        if (j==0) or (i-j==3 and j>1) or (i+j==5) :\n",
    "            print(\"*\",end=\"\")\n",
    "        else:\n",
    "            print(end=\" \")\n",
    "    print()"
   ]
  },
  {
   "cell_type": "code",
   "execution_count": 163,
   "id": "d408895e",
   "metadata": {},
   "outputs": [
    {
     "name": "stdout",
     "output_type": "stream",
     "text": [
      "Enter the number of rows:4\n",
      "1 \n",
      "2 3 \n",
      "4 5 6 \n",
      "7 8 9 10 \n"
     ]
    }
   ],
   "source": [
    "a=1\n",
    "num=int(input(\"Enter the number of rows:\"))\n",
    "for i in range(num):\n",
    "    for j in range(i+1):\n",
    "        print(a,end=\" \")\n",
    "        a+=1\n",
    "    print()"
   ]
  },
  {
   "cell_type": "code",
   "execution_count": 166,
   "id": "062e1646",
   "metadata": {},
   "outputs": [
    {
     "name": "stdout",
     "output_type": "stream",
     "text": [
      "p \n",
      "p y \n",
      "p y t \n",
      "p y t h \n",
      "p y t h o \n",
      "p y t h o n \n"
     ]
    }
   ],
   "source": [
    "l=['p','y','t','h','o','n']\n",
    "for i in range(6):\n",
    "    for j in range(i+1):\n",
    "        print(l[j],end=\" \")\n",
    "    print()"
   ]
  },
  {
   "cell_type": "code",
   "execution_count": 180,
   "id": "fabf9050",
   "metadata": {},
   "outputs": [
    {
     "name": "stdout",
     "output_type": "stream",
     "text": [
      "Enter the number of rows:5\n",
      "100 121 144 169 \n",
      "196 225 256 \n",
      "289 324 \n",
      "361 \n",
      "\n"
     ]
    }
   ],
   "source": [
    "a=10\n",
    "num=int(input(\"Enter the number of rows:\"))\n",
    "for i in range(num,0,-1):\n",
    "    for j in range(1,i):\n",
    "        print(a**2,end=\" \")\n",
    "        a+=1\n",
    "    print()"
   ]
  },
  {
   "cell_type": "code",
   "execution_count": 182,
   "id": "66ab1177",
   "metadata": {},
   "outputs": [
    {
     "name": "stdout",
     "output_type": "stream",
     "text": [
      "Enter the number of rows:10\n",
      "1 \n",
      "4 9 \n",
      "16 25 36 \n",
      "49 64 81 100 \n",
      "121 144 169 196 225 \n",
      "256 289 324 361 400 441 \n",
      "484 529 576 625 676 729 784 \n",
      "841 900 961 1024 1089 1156 1225 1296 \n",
      "1369 1444 1521 1600 1681 1764 1849 1936 2025 \n",
      "2116 2209 2304 2401 2500 2601 2704 2809 2916 3025 \n"
     ]
    }
   ],
   "source": [
    "a=1\n",
    "num=int(input(\"Enter the number of rows:\"))\n",
    "for i in range(num):\n",
    "    for j in range(i+1):\n",
    "        print(a**2,end=\" \")\n",
    "        a+=1\n",
    "    print()"
   ]
  },
  {
   "cell_type": "code",
   "execution_count": 203,
   "id": "c870a264",
   "metadata": {},
   "outputs": [
    {
     "name": "stdout",
     "output_type": "stream",
     "text": [
      "Enter number of rows:5\n",
      "[[1], [1, 1], [1, 2, 1], [1, 3, 3, 1], [1, 4, 6, 4, 1]]\n",
      "    1 \n",
      "   1 1 \n",
      "  1 2 1 \n",
      " 1 3 3 1 \n",
      "1 4 6 4 1 \n"
     ]
    }
   ],
   "source": [
    "n=int(input(\"Enter number of rows:\"))\n",
    "list1=[]\n",
    "for i in range(n):\n",
    "    temp_list=[]\n",
    "    for j in range(i+1):\n",
    "        if j==0 or j==i:\n",
    "            temp_list.append(1)\n",
    "        else:\n",
    "            temp_list.append(list1[i-1][j-1] + list1[i-1][j])\n",
    "    list1.append(temp_list)\n",
    "print(list1)\n",
    "\n",
    "for i in range(n):\n",
    "    for j in range(n-i-1):\n",
    "        print(\" \",end=\"\")\n",
    "    for j in range(i+1):\n",
    "        print(list1[i][j],end=\" \")\n",
    "    print()"
   ]
  },
  {
   "cell_type": "code",
   "execution_count": null,
   "id": "d465c9fd",
   "metadata": {},
   "outputs": [],
   "source": []
  },
  {
   "cell_type": "code",
   "execution_count": null,
   "id": "2ddeff96",
   "metadata": {},
   "outputs": [],
   "source": []
  }
 ],
 "metadata": {
  "kernelspec": {
   "display_name": "Python 3 (ipykernel)",
   "language": "python",
   "name": "python3"
  },
  "language_info": {
   "codemirror_mode": {
    "name": "ipython",
    "version": 3
   },
   "file_extension": ".py",
   "mimetype": "text/x-python",
   "name": "python",
   "nbconvert_exporter": "python",
   "pygments_lexer": "ipython3",
   "version": "3.11.4"
  }
 },
 "nbformat": 4,
 "nbformat_minor": 5
}
