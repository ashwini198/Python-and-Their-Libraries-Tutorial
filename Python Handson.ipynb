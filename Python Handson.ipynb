{
 "cells": [
  {
   "cell_type": "code",
   "execution_count": 127,
   "id": "07666916",
   "metadata": {},
   "outputs": [
    {
     "name": "stdout",
     "output_type": "stream",
     "text": [
      "Hello, ASHWIINI YADAV\n",
      "It's Python Handson Practice\n",
      "Be ready for it\n",
      "Come on Boy\n"
     ]
    }
   ],
   "source": [
    "print(\"Hello, ASHWIINI YADAV\")\n",
    "print(\"\"\"It's Python Handson Practice\n",
    "Be ready for it\n",
    "Come on Boy\"\"\")"
   ]
  },
  {
   "cell_type": "code",
   "execution_count": 16,
   "id": "0adb950b",
   "metadata": {},
   "outputs": [
    {
     "data": {
      "text/plain": [
       "str"
      ]
     },
     "execution_count": 16,
     "metadata": {},
     "output_type": "execute_result"
    }
   ],
   "source": [
    "#1) Create a string datatype\n",
    "a=\"Ashwini Yadav\"\n",
    "type(a)"
   ]
  },
  {
   "cell_type": "code",
   "execution_count": 36,
   "id": "74bbabd2",
   "metadata": {},
   "outputs": [
    {
     "name": "stdout",
     "output_type": "stream",
     "text": [
      " This is multiline strig. In this different line is printed\n",
      "I am Ashwini.\n",
      "He is Abhishek Raj\n"
     ]
    }
   ],
   "source": [
    "#2) Multiline String\n",
    "b= \"\"\" This is multiline strig. In this different line is printed\n",
    "I am Ashwini.\n",
    "He is Abhishek Raj\"\"\"\n",
    "print(b)"
   ]
  },
  {
   "cell_type": "code",
   "execution_count": 37,
   "id": "87b1ea79",
   "metadata": {},
   "outputs": [
    {
     "data": {
      "text/plain": [
       "'Ashwini'"
      ]
     },
     "execution_count": 37,
     "metadata": {},
     "output_type": "execute_result"
    }
   ],
   "source": [
    "#3) Access the string using index\n",
    "c=\"Ashwini\"\n",
    "c[:]"
   ]
  },
  {
   "cell_type": "code",
   "execution_count": 39,
   "id": "4837748d",
   "metadata": {},
   "outputs": [
    {
     "data": {
      "text/plain": [
       "'jaR kehsihbA'"
      ]
     },
     "execution_count": 39,
     "metadata": {},
     "output_type": "execute_result"
    }
   ],
   "source": [
    "#4) Slice the string from beginning and end\n",
    "d=\"Abhishek Raj\"\n",
    "d[:8]\n",
    "d[-1::-1]"
   ]
  },
  {
   "cell_type": "code",
   "execution_count": 54,
   "id": "3eb92aba",
   "metadata": {},
   "outputs": [
    {
     "data": {
      "text/plain": [
       "'92'"
      ]
     },
     "execution_count": 54,
     "metadata": {},
     "output_type": "execute_result"
    }
   ],
   "source": [
    "#5) Create a list with three elements and access the element using index\n",
    "MTech=['Ashwini','92','Abhishek']\n",
    "MTech[1]"
   ]
  },
  {
   "cell_type": "code",
   "execution_count": 55,
   "id": "a6a2a503",
   "metadata": {},
   "outputs": [],
   "source": [
    "#6) Add an item to the above list\n",
    "MTech.append(\"Abhay\")"
   ]
  },
  {
   "cell_type": "code",
   "execution_count": 56,
   "id": "5afaf1ca",
   "metadata": {},
   "outputs": [
    {
     "data": {
      "text/plain": [
       "['Ashwini', '92', 'Abhishek', 'Abhay']"
      ]
     },
     "execution_count": 56,
     "metadata": {},
     "output_type": "execute_result"
    }
   ],
   "source": [
    "MTech"
   ]
  },
  {
   "cell_type": "code",
   "execution_count": 57,
   "id": "5b65b119",
   "metadata": {},
   "outputs": [
    {
     "data": {
      "text/plain": [
       "[92, 16, 'Ashwini', '92', 'Abhishek', 'Abhay']"
      ]
     },
     "execution_count": 57,
     "metadata": {},
     "output_type": "execute_result"
    }
   ],
   "source": [
    "#7) Add an extend() function to create a new list from already existing list\n",
    "L=[92,16]\n",
    "L.extend(MTech)\n",
    "L"
   ]
  },
  {
   "cell_type": "code",
   "execution_count": 66,
   "id": "6ffd160a",
   "metadata": {},
   "outputs": [],
   "source": [
    "#8) Use insert() function to create a new item in the list with specified location\n",
    "A=[45,18,'Pen']\n",
    "L.insert(3,A)"
   ]
  },
  {
   "cell_type": "code",
   "execution_count": 67,
   "id": "439ca93a",
   "metadata": {},
   "outputs": [
    {
     "name": "stdout",
     "output_type": "stream",
     "text": [
      "[92, 16, 'Ashwini', [45, 18, 'Pen'], [45, 18, 'Pen'], '92', 'Abhishek', 'Abhay', ['Ashwini', '92', 'Abhishek', 'Abhay']]\n"
     ]
    }
   ],
   "source": [
    "print(L)"
   ]
  },
  {
   "cell_type": "code",
   "execution_count": 90,
   "id": "36f26265",
   "metadata": {},
   "outputs": [
    {
     "name": "stdout",
     "output_type": "stream",
     "text": [
      "[9, 'DOG', 'Kitten', 'CAT', 6.5]\n",
      "[9, 'DOG', 'Kitten', [8, 'ANu', 9.5], 'CAT', 6.5]\n"
     ]
    }
   ],
   "source": [
    "B=[9,'DOG','CAT',6.5]\n",
    "B.insert(2,'Kitten')\n",
    "print(B)\n",
    "Lt=[8,'ANu',9.5]\n",
    "B.insert(3,Lt)\n",
    "print(B)"
   ]
  },
  {
   "cell_type": "code",
   "execution_count": 91,
   "id": "116412e7",
   "metadata": {},
   "outputs": [
    {
     "ename": "ValueError",
     "evalue": "list.remove(x): x not in list",
     "output_type": "error",
     "traceback": [
      "\u001b[1;31m---------------------------------------------------------------------------\u001b[0m",
      "\u001b[1;31mValueError\u001b[0m                                Traceback (most recent call last)",
      "Cell \u001b[1;32mIn[91], line 1\u001b[0m\n\u001b[1;32m----> 1\u001b[0m B\u001b[38;5;241m.\u001b[39mremove(\u001b[38;5;124m'\u001b[39m\u001b[38;5;124mANu\u001b[39m\u001b[38;5;124m'\u001b[39m)\n\u001b[0;32m      2\u001b[0m \u001b[38;5;28mprint\u001b[39m(B)\n",
      "\u001b[1;31mValueError\u001b[0m: list.remove(x): x not in list"
     ]
    }
   ],
   "source": [
    "#9) Remove the item from list\n",
    "B.remove('ANu')\n",
    "print(B)"
   ]
  },
  {
   "cell_type": "code",
   "execution_count": 92,
   "id": "6dfc7a84",
   "metadata": {},
   "outputs": [
    {
     "name": "stdout",
     "output_type": "stream",
     "text": [
      "[]\n"
     ]
    }
   ],
   "source": [
    "#10) Use clear function to remove the item of list and then print the list\n",
    "B.clear()\n",
    "print(B)"
   ]
  },
  {
   "cell_type": "code",
   "execution_count": 116,
   "id": "1feb142f",
   "metadata": {},
   "outputs": [
    {
     "name": "stdout",
     "output_type": "stream",
     "text": [
      "4\n",
      "9\n"
     ]
    }
   ],
   "source": [
    "#11) Use count function in the list and display the results\n",
    "List1= ['Ashwini','Abhishek',92,16,8.44,92,92,92.0,16]\n",
    "print(List1.count(92))\n",
    "print(len(List1))"
   ]
  },
  {
   "cell_type": "code",
   "execution_count": 117,
   "id": "ed64346a",
   "metadata": {},
   "outputs": [
    {
     "data": {
      "text/plain": [
       "[16, 92.0, 92, 92, 8.44, 16, 92, 'Abhishek', 'Ashwini']"
      ]
     },
     "execution_count": 117,
     "metadata": {},
     "output_type": "execute_result"
    }
   ],
   "source": [
    "#12) Reverse the existing list\n",
    "List1[::-1]"
   ]
  },
  {
   "cell_type": "code",
   "execution_count": 118,
   "id": "88337a32",
   "metadata": {},
   "outputs": [
    {
     "name": "stdout",
     "output_type": "stream",
     "text": [
      "16\n"
     ]
    }
   ],
   "source": [
    "#13) Use pop function to delete the item in the list\n",
    "print(List1.pop())"
   ]
  },
  {
   "cell_type": "code",
   "execution_count": 125,
   "id": "c39af486",
   "metadata": {},
   "outputs": [
    {
     "name": "stdout",
     "output_type": "stream",
     "text": [
      "Occurrence of the number is: 6\n",
      "Maximum number is: 19865\n",
      "Minimum number is: 2\n",
      "Length of the number is: 28\n"
     ]
    }
   ],
   "source": [
    "#14) Create the list with integer numbers and get the count,max.min.len\n",
    "List2=[15,14,25,48,2,54,78,96,96,36,96,92,92,87,96,92,19865,36,14,16,96,95,96,95,98,78,63,36]\n",
    "print(\"Occurrence of the number is:\",List2.count(96))\n",
    "print(\"Maximum number is:\",max(List2))\n",
    "print(\"Minimum number is:\",min(List2))\n",
    "print(\"Length of the number is:\",len(List2))"
   ]
  },
  {
   "cell_type": "markdown",
   "id": "12767872",
   "metadata": {},
   "source": [
    "# SETS"
   ]
  },
  {
   "cell_type": "code",
   "execution_count": 10,
   "id": "d4fc00af",
   "metadata": {},
   "outputs": [
    {
     "name": "stdout",
     "output_type": "stream",
     "text": [
      "{0, 1, 2, 3, 9}\n",
      "{4, 5, 6, 7, 8}\n",
      "{0, 1, 2, 3, 4, 5, 6, 7, 8, 9}\n"
     ]
    }
   ],
   "source": [
    "# Intersection of Sets\n",
    "set1=set()\n",
    "set2=set()\n",
    "\n",
    "for i in range(10):\n",
    "    set1.add(i)\n",
    "\n",
    "for j in range(4,9):\n",
    "    set2.add(j)\n",
    "    \n",
    "    \n",
    "set3=set1.difference(set2)\n",
    "print(set3)\n",
    "print(set2)\n",
    "print(set1)"
   ]
  },
  {
   "cell_type": "code",
   "execution_count": 7,
   "id": "9f01c6c4",
   "metadata": {},
   "outputs": [
    {
     "name": "stdout",
     "output_type": "stream",
     "text": [
      "{0, 1, 2, 3, 9}\n"
     ]
    }
   ],
   "source": [
    "set4=set1-set2\n",
    "print(set4)"
   ]
  },
  {
   "cell_type": "code",
   "execution_count": 8,
   "id": "c13f0274",
   "metadata": {},
   "outputs": [
    {
     "name": "stdout",
     "output_type": "stream",
     "text": [
      "{4, 5, 6, 7, 8}\n"
     ]
    }
   ],
   "source": [
    "set5=set1&set2\n",
    "print(set5)"
   ]
  },
  {
   "cell_type": "code",
   "execution_count": 27,
   "id": "80620f99",
   "metadata": {},
   "outputs": [
    {
     "name": "stdout",
     "output_type": "stream",
     "text": [
      "      Hello,    World    \n",
      "Hello,    World\n",
      "      Hello,    World    \n"
     ]
    }
   ],
   "source": [
    "a=\"      Hello,    World    \"\n",
    "print(a)\n",
    "Stripped_a=a.strip()\n",
    "print(Stripped_a)\n",
    "b='Hello'\n",
    "print(a.strip(b))"
   ]
  },
  {
   "cell_type": "code",
   "execution_count": 35,
   "id": "07c10e60",
   "metadata": {},
   "outputs": [
    {
     "name": "stdout",
     "output_type": "stream",
     "text": [
      "\n",
      "Hello, \n",
      "World!\n",
      "Ashwini\n",
      "\n",
      "\n"
     ]
    },
    {
     "data": {
      "text/plain": [
       "'Hello, \\nWorld!\\nAshwini'"
      ]
     },
     "execution_count": 35,
     "metadata": {},
     "output_type": "execute_result"
    }
   ],
   "source": [
    "str = \"\\nHello, \\nWorld!\\nAshwini\\n\\n\"\n",
    "print(str)\n",
    "str.strip()"
   ]
  },
  {
   "cell_type": "code",
   "execution_count": 44,
   "id": "0d7e7b2c",
   "metadata": {},
   "outputs": [
    {
     "name": "stdout",
     "output_type": "stream",
     "text": [
      "dlrow !olleh\n"
     ]
    }
   ],
   "source": [
    "a='hello! world'\n",
    "print(a[-1::-1])"
   ]
  },
  {
   "cell_type": "code",
   "execution_count": 53,
   "id": "8196000b",
   "metadata": {},
   "outputs": [
    {
     "name": "stdout",
     "output_type": "stream",
     "text": [
      "2    Abhay 4\n"
     ]
    }
   ],
   "source": [
    "a='2'\n",
    "b='4'\n",
    "print(a+\"    Abhay \"+b)"
   ]
  },
  {
   "cell_type": "code",
   "execution_count": 6,
   "id": "0438cfcc",
   "metadata": {},
   "outputs": [
    {
     "name": "stdout",
     "output_type": "stream",
     "text": [
      "dict_keys(['porosity', 'permeability', 'phi*k'])\n",
      "\n",
      "\n",
      "dict_values([[0.1, 0.2, 0.3, 0.4, 0.5], [25, 17, 42, 41, 65], [2.5, 3.4, 12.6, 16.4, 32.5]])\n",
      "\n",
      "\n",
      "   porosity  permeability  phi*k\n",
      "0       0.1            25    2.5\n",
      "1       0.2            17    3.4\n",
      "2       0.3            42   12.6\n",
      "3       0.4            41   16.4\n",
      "4       0.5            65   32.5\n"
     ]
    }
   ],
   "source": [
    "#question-4\n",
    "import pandas as pd\n",
    "rock_property={'porosity':[0.1,0.2,0.3,0.4,0.5],'permeability':[25,17,42,41,65],\n",
    "              'phi*k':[2.5,3.4,12.6,16.4,32.5]}\n",
    "print(rock_property.keys())\n",
    "print('\\n')\n",
    "print(rock_property.values())\n",
    "df=pd.DataFrame(rock_property)\n",
    "print('\\n')\n",
    "print(df)"
   ]
  },
  {
   "cell_type": "code",
   "execution_count": 7,
   "id": "61175d8b",
   "metadata": {},
   "outputs": [
    {
     "name": "stdout",
     "output_type": "stream",
     "text": [
      "count is: 13\n",
      "count is: 12\n",
      "count is: 11\n",
      "Goodbye\n"
     ]
    }
   ],
   "source": [
    "# Question-5\n",
    "count=13\n",
    "while(count>10):\n",
    "    print('count is:',count)\n",
    "    count=count-1\n",
    "print('Goodbye')"
   ]
  },
  {
   "cell_type": "code",
   "execution_count": 8,
   "id": "55d1cf5f",
   "metadata": {},
   "outputs": [
    {
     "name": "stdout",
     "output_type": "stream",
     "text": [
      "Rock Porosity: 0.1\n",
      "Rock Porosity: 0.2\n",
      "Rock Porosity: 0.30000000000000004\n",
      "out of range\n"
     ]
    }
   ],
   "source": [
    "#Question-6\n",
    "porosity=0.1\n",
    "while(porosity<0.4):\n",
    "    print('Rock Porosity:',porosity)\n",
    "    porosity=porosity+0.1\n",
    "print('out of range')"
   ]
  },
  {
   "cell_type": "code",
   "execution_count": 9,
   "id": "41c1c080",
   "metadata": {},
   "outputs": [
    {
     "name": "stdout",
     "output_type": "stream",
     "text": [
      "T\n",
      "a\n",
      "r\n",
      "g\n",
      "e\n",
      "t\n"
     ]
    }
   ],
   "source": [
    "X='Target'\n",
    "for i in X:\n",
    "    print(i)"
   ]
  },
  {
   "cell_type": "code",
   "execution_count": 10,
   "id": "9ac1bd6f",
   "metadata": {},
   "outputs": [
    {
     "name": "stdout",
     "output_type": "stream",
     "text": [
      "Sandstone\n",
      "Shale\n",
      "Coal\n"
     ]
    }
   ],
   "source": [
    "l=['Sandstone','Shale','Coal']\n",
    "for i in l:\n",
    "    print(i)"
   ]
  },
  {
   "cell_type": "code",
   "execution_count": 11,
   "id": "4164d784",
   "metadata": {},
   "outputs": [
    {
     "name": "stdout",
     "output_type": "stream",
     "text": [
      "C+o+a+l+"
     ]
    }
   ],
   "source": [
    "l=['Sandstone','Shale','Coal']\n",
    "for j in l[2]:\n",
    "    print(j,end='+')"
   ]
  },
  {
   "cell_type": "code",
   "execution_count": 12,
   "id": "79ee7974",
   "metadata": {},
   "outputs": [
    {
     "name": "stdout",
     "output_type": "stream",
     "text": [
      "[0, 10, 20, 30, 40, 50, 60, 70, 80, 90]\n",
      "<class 'list'>\n"
     ]
    }
   ],
   "source": [
    "l=list(range(0,100,10))\n",
    "print(l)\n",
    "print(type(l))"
   ]
  },
  {
   "cell_type": "code",
   "execution_count": 15,
   "id": "8e2c30df",
   "metadata": {},
   "outputs": [
    {
     "name": "stdout",
     "output_type": "stream",
     "text": [
      "11 x 1 = 11\n",
      "11 x 2 = 22\n",
      "11 x 3 = 33\n",
      "11 x 4 = 44\n",
      "11 x 5 = 55\n",
      "11 x 6 = 66\n",
      "11 x 7 = 77\n",
      "11 x 8 = 88\n",
      "11 x 9 = 99\n",
      "11 x 10 = 110\n"
     ]
    }
   ],
   "source": [
    "num=11\n",
    "for i in range(1,11):\n",
    "    print(num,'x',i,'=',num*i)"
   ]
  },
  {
   "cell_type": "code",
   "execution_count": 20,
   "id": "5ea684b8",
   "metadata": {},
   "outputs": [
    {
     "name": "stdout",
     "output_type": "stream",
     "text": [
      "<class 'dict'>\n",
      "{'day': [1, 2, 3], 'visitors': [100, 200, 300], 'bounce': [41, 56, 89]}\n",
      "dict_keys(['day', 'visitors', 'bounce'])\n",
      "dict_items([('day', [1, 2, 3]), ('visitors', [100, 200, 300]), ('bounce', [41, 56, 89])])\n",
      "dict_values([[1, 2, 3], [100, 200, 300], [41, 56, 89]])\n"
     ]
    }
   ],
   "source": [
    "website={'day':[1,2,3],'visitors':[100,200,300],'bounce':[41,56,89]}\n",
    "print(type(website))\n",
    "print(website)\n",
    "print(website.keys())\n",
    "print(website.items())\n",
    "print(website.values())"
   ]
  },
  {
   "cell_type": "code",
   "execution_count": 24,
   "id": "48915beb",
   "metadata": {},
   "outputs": [
    {
     "name": "stdout",
     "output_type": "stream",
     "text": [
      "porcapcapillar\n",
      "2094\n"
     ]
    }
   ],
   "source": [
    "l1=['porosity','permeability','capillary','coal',1235,859]\n",
    "#print(l1[0][0:3]+\"+l1[2][0:3]+l1[2][0:-1])\n",
    "print(l1[0][0:3]+l1[2][0:3]+l1[2][0:-1])\n",
    "print(l1[4]+l1[5])"
   ]
  },
  {
   "cell_type": "code",
   "execution_count": 25,
   "id": "713267f4",
   "metadata": {},
   "outputs": [
    {
     "name": "stdout",
     "output_type": "stream",
     "text": [
      "Data Analytics\n",
      "Data Anal\n"
     ]
    }
   ],
   "source": [
    "X='Data Analytics'\n",
    "print(X)\n",
    "print(X[0:-5])"
   ]
  },
  {
   "cell_type": "code",
   "execution_count": 26,
   "id": "5e6cd99b",
   "metadata": {},
   "outputs": [
    {
     "name": "stdout",
     "output_type": "stream",
     "text": [
      "DataData\n"
     ]
    }
   ],
   "source": [
    "x='Data'\n",
    "print(x*2)"
   ]
  },
  {
   "cell_type": "code",
   "execution_count": 36,
   "id": "19d0b5c2",
   "metadata": {},
   "outputs": [
    {
     "name": "stdout",
     "output_type": "stream",
     "text": [
      "porosity(%)           0.5\n",
      "permeability(mD)    200.0\n",
      "Name: 0, dtype: float64\n",
      "\n",
      "\n",
      "   porosity(%)  permeability(mD)\n",
      "0         0.50               200\n",
      "1         0.25               300\n",
      "\n",
      "\n",
      "   porosity(%)  permeability(mD)\n",
      "0         0.50               200\n",
      "1         0.25               300\n",
      "2         0.10               100\n"
     ]
    }
   ],
   "source": [
    "import pandas as pd\n",
    "data={\"porosity(%)\":[0.5,0.25,0.10],\"permeability(mD)\":[200,300,100]}\n",
    "df=pd.DataFrame(data)\n",
    "print(df.loc[0])\n",
    "print('\\n')\n",
    "print(df.loc[[0,1]])\n",
    "print('\\n')\n",
    "print(df)"
   ]
  },
  {
   "cell_type": "code",
   "execution_count": 40,
   "id": "8ed675f9",
   "metadata": {},
   "outputs": [
    {
     "name": "stdout",
     "output_type": "stream",
     "text": [
      "   one  two\n",
      "a  1.0    1\n",
      "b  2.0    2\n",
      "c  3.0    3\n",
      "d  NaN    4\n",
      "<class 'dict'>\n"
     ]
    }
   ],
   "source": [
    "import pandas as pd\n",
    "d={'one':pd.Series([1,2,3],index=['a','b','c']),'two':pd.Series([1,2,3,4],index=['a','b','c','d'])}\n",
    "df=pd.DataFrame(d)\n",
    "print(df)\n",
    "print(type(d))"
   ]
  },
  {
   "cell_type": "code",
   "execution_count": 42,
   "id": "fa1bbd2a",
   "metadata": {},
   "outputs": [
    {
     "name": "stdout",
     "output_type": "stream",
     "text": [
      "   two  three\n",
      "a    1   10.0\n",
      "b    2   20.0\n",
      "c    3   30.0\n",
      "d    4    NaN\n",
      "   three\n",
      "a   10.0\n",
      "b   20.0\n",
      "c   30.0\n",
      "d    NaN\n"
     ]
    }
   ],
   "source": [
    "d={'one':pd.Series([1,2,3],index=['a','b','c']),\n",
    "   'two':pd.Series([1,2,3,4],index=['a','b','c','d']),\n",
    "  'three':pd.Series([10,20,30],index=['a','b','c'])}\n",
    "df=pd.DataFrame(d)\n",
    "del df['one']\n",
    "print(df)\n",
    "df.pop('two')\n",
    "print(df)"
   ]
  },
  {
   "cell_type": "code",
   "execution_count": 44,
   "id": "5c3a3325",
   "metadata": {},
   "outputs": [
    {
     "name": "stdout",
     "output_type": "stream",
     "text": [
      "one    1.0\n",
      "two    1.0\n",
      "Name: a, dtype: float64\n",
      "one    3.0\n",
      "two    3.0\n",
      "Name: c, dtype: float64\n"
     ]
    }
   ],
   "source": [
    "d={'one':pd.Series([1,2,3],index=['a','b','c']),'two':pd.Series([1,2,3,4],index=['a','b','c','d'])}\n",
    "df=pd.DataFrame(d)\n",
    "print(df.loc['a'])  \n",
    "print(df.iloc[2]) # GIVES SPECIFIC ROWS AND COLUMNS"
   ]
  },
  {
   "cell_type": "code",
   "execution_count": 46,
   "id": "9ca9b66e",
   "metadata": {},
   "outputs": [
    {
     "name": "stdout",
     "output_type": "stream",
     "text": [
      "   a  b\n",
      "0  1  2\n",
      "1  3  4\n",
      "   a  b\n",
      "0  5  6\n",
      "1  7  8\n"
     ]
    }
   ],
   "source": [
    "import pandas as pd\n",
    "df=pd.DataFrame([[1,2],[3,4]],columns=['a','b'])\n",
    "df2=pd.DataFrame([[5,6],[7,8]],columns=['a','b'])\n",
    "print(df)\n",
    "print(df2)"
   ]
  },
  {
   "cell_type": "code",
   "execution_count": 47,
   "id": "fca5eca3",
   "metadata": {},
   "outputs": [
    {
     "name": "stdout",
     "output_type": "stream",
     "text": [
      "   a  b\n",
      "0  1  2\n",
      "1  3  4\n",
      "0  5  6\n",
      "1  7  8\n"
     ]
    },
    {
     "name": "stderr",
     "output_type": "stream",
     "text": [
      "C:\\Users\\Ashwini Kumar\\AppData\\Local\\Temp\\ipykernel_26528\\897022571.py:4: FutureWarning: The frame.append method is deprecated and will be removed from pandas in a future version. Use pandas.concat instead.\n",
      "  df=df.append(df2)\n"
     ]
    }
   ],
   "source": [
    "import pandas as pd\n",
    "df=pd.DataFrame([[1,2],[3,4]],columns=['a','b'])\n",
    "df2=pd.DataFrame([[5,6],[7,8]],columns=['a','b'])\n",
    "df=df.append(df2)\n",
    "print(df)"
   ]
  },
  {
   "cell_type": "code",
   "execution_count": 50,
   "id": "2928f492",
   "metadata": {},
   "outputs": [
    {
     "name": "stdout",
     "output_type": "stream",
     "text": [
      "[[1 2]\n",
      " [3 4]]\n"
     ]
    }
   ],
   "source": [
    "import numpy as np\n",
    "X=np.array([[1,2],[3,4]])\n",
    "print(X)"
   ]
  },
  {
   "cell_type": "code",
   "execution_count": 54,
   "id": "ef9f543b",
   "metadata": {},
   "outputs": [
    {
     "name": "stdout",
     "output_type": "stream",
     "text": [
      "[[1 2 3 4 5]]\n"
     ]
    }
   ],
   "source": [
    "#Question - 22\n",
    "X=np.array([1,2,3,4,5],ndmin=2)\n",
    "print(X)"
   ]
  },
  {
   "cell_type": "code",
   "execution_count": 68,
   "id": "b85a5395",
   "metadata": {},
   "outputs": [
    {
     "name": "stdout",
     "output_type": "stream",
     "text": [
      "    porosity  Permeability              Rating\n",
      "0  sandstone         200.0      Very Permeable\n",
      "1  carbonate         100.0  Moderate Permeable\n",
      "2      Shale           0.1               Tight\n",
      "\n",
      "\n",
      "The transpose of the data series is:\n",
      "                           0                   1      2\n",
      "porosity           sandstone           carbonate  Shale\n",
      "Permeability           200.0               100.0    0.1\n",
      "Rating        Very Permeable  Moderate Permeable  Tight\n",
      "\n",
      "\n",
      "False\n",
      "\n",
      "\n",
      "[RangeIndex(start=0, stop=3, step=1), Index(['porosity', 'Permeability', 'Rating'], dtype='object')]\n",
      "\n",
      "\n",
      "2\n",
      "    porosity  Permeability              Rating\n",
      "0  sandstone         200.0      Very Permeable\n",
      "1  carbonate         100.0  Moderate Permeable\n"
     ]
    }
   ],
   "source": [
    "#Question-23\n",
    "import pandas as pd\n",
    "d={'porosity':pd.Series(['sandstone','carbonate','Shale']),\n",
    "  'Permeability':pd.Series([200,100,0.1]),\n",
    "  'Rating':pd.Series(['Very Permeable','Moderate Permeable','Tight'])}\n",
    "df=pd.DataFrame(d)\n",
    "print(df)\n",
    "print('\\n')\n",
    "print(\"The transpose of the data series is:\")\n",
    "print(df.T)\n",
    "print('\\n')\n",
    "print(df.empty)\n",
    "print('\\n')\n",
    "print(df.axes)\n",
    "print('\\n')\n",
    "print(df.ndim)\n",
    "print(df.head(2))"
   ]
  },
  {
   "cell_type": "code",
   "execution_count": 76,
   "id": "ed3b66d5",
   "metadata": {},
   "outputs": [
    {
     "name": "stdout",
     "output_type": "stream",
     "text": [
      "[[3 2 4]\n",
      " [5 0 1]]\n",
      "\n",
      "\n",
      "[[3 0 1]\n",
      " [5 2 4]]\n",
      "\n",
      "\n",
      "[[2 3 4]\n",
      " [0 1 5]]\n",
      "\n",
      "\n",
      "[0 1 2 3 4 5]\n"
     ]
    }
   ],
   "source": [
    "#Question-24\n",
    "import numpy as np\n",
    "arr=np.array([[3,2,4],[5,0,1]])\n",
    "print(arr)\n",
    "print('\\n')\n",
    "print(np.sort(arr,axis=0))# axis=0 then each column sorted and axis=1 then each row get sorted \n",
    "# if axis = None then give the flattened sorted array\n",
    "print('\\n')\n",
    "print(np.sort(arr,axis=1))\n",
    "print('\\n')\n",
    "print(np.sort(arr,axis=None))"
   ]
  },
  {
   "cell_type": "code",
   "execution_count": 79,
   "id": "46751c85",
   "metadata": {},
   "outputs": [
    {
     "name": "stdout",
     "output_type": "stream",
     "text": [
      "[[21  7 23 14]\n",
      " [31 10 33  7]\n",
      " [11 12 13 22]]\n"
     ]
    }
   ],
   "source": [
    "#Question-25\n",
    "arr2D=np.array([[11,12,13,22],[21,7,23,14],[31,10,33,7]])\n",
    "columnIndex=1\n",
    "sortedArr=arr2D[arr2D[:,columnIndex].argsort()]\n",
    "print(sortedArr)"
   ]
  },
  {
   "cell_type": "code",
   "execution_count": 95,
   "id": "23ac4e85",
   "metadata": {},
   "outputs": [
    {
     "name": "stdout",
     "output_type": "stream",
     "text": [
      "30\n"
     ]
    }
   ],
   "source": [
    "#Question-32\n",
    "def fun1(number):\n",
    "    return number+25\n",
    "result=fun1(5)\n",
    "print(result)"
   ]
  },
  {
   "cell_type": "code",
   "execution_count": 94,
   "id": "d4406ff6",
   "metadata": {},
   "outputs": [
    {
     "name": "stdout",
     "output_type": "stream",
     "text": [
      "30\n"
     ]
    }
   ],
   "source": [
    "#Question-32\n",
    "def fun1(num1,num2):\n",
    "    return num1+num2\n",
    "x=fun1(5,25)\n",
    "print(x)"
   ]
  },
  {
   "cell_type": "code",
   "execution_count": 83,
   "id": "5ea46769",
   "metadata": {},
   "outputs": [
    {
     "name": "stdout",
     "output_type": "stream",
     "text": [
      "My Name Is Ashwini Kumar\n"
     ]
    }
   ],
   "source": [
    "#Question-34\n",
    "intro='my name is ashwini kumar'\n",
    "print(intro.title())"
   ]
  },
  {
   "cell_type": "code",
   "execution_count": 101,
   "id": "aff0ce8e",
   "metadata": {},
   "outputs": [
    {
     "data": {
      "text/plain": [
       "Text(0.5, 1.0, 'Straight line plot')"
      ]
     },
     "execution_count": 101,
     "metadata": {},
     "output_type": "execute_result"
    },
    {
     "data": {
      "image/png": "[encoded data removed]",
      "text/plain": [
       "<Figure size 640x480 with 1 Axes>"
      ]
     },
     "metadata": {},
     "output_type": "display_data"
    }
   ],
   "source": [
    "#Question-26\n",
    "import matplotlib.pyplot as plt\n",
    "import numpy as np\n",
    "x=np.arange(0,10)\n",
    "y=(2*x+5)\n",
    "plt.plot(x,y)\n",
    "plt.xlabel(\"x-label\")\n",
    "plt.ylabel('y-label')\n",
    "plt.title(\"Straight line plot\")"
   ]
  },
  {
   "cell_type": "code",
   "execution_count": 102,
   "id": "6ec1d4fd",
   "metadata": {},
   "outputs": [
    {
     "name": "stdout",
     "output_type": "stream",
     "text": [
      "(8, 7)\n"
     ]
    }
   ],
   "source": [
    "#Question-27\n",
    "def add(a,b):\n",
    "    return a+5,b+5\n",
    "result = add(3,2)\n",
    "print(result)"
   ]
  },
  {
   "cell_type": "code",
   "execution_count": 104,
   "id": "55ad7e0d",
   "metadata": {},
   "outputs": [
    {
     "name": "stdout",
     "output_type": "stream",
     "text": [
      "15\n"
     ]
    }
   ],
   "source": [
    "#Question -28\n",
    "def outer_fun(a,b):\n",
    "    def inner_fun(c,d):\n",
    "        return c+d\n",
    "    return inner_fun(a,b)\n",
    "    return a\n",
    "result = outer_fun(5,10)\n",
    "print (result)"
   ]
  },
  {
   "cell_type": "markdown",
   "id": "15bafcf1",
   "metadata": {},
   "source": [
    " Question-38"
   ]
  },
  {
   "cell_type": "code",
   "execution_count": 107,
   "id": "9ab1548d",
   "metadata": {},
   "outputs": [
    {
     "data": {
      "text/plain": [
       "dict"
      ]
     },
     "execution_count": 107,
     "metadata": {},
     "output_type": "execute_result"
    }
   ],
   "source": [
    "sample_dict={}\n",
    "type(sample_dict)"
   ]
  },
  {
   "cell_type": "code",
   "execution_count": 109,
   "id": "f11ad8cd",
   "metadata": {},
   "outputs": [
    {
     "data": {
      "text/plain": [
       "dict"
      ]
     },
     "execution_count": 109,
     "metadata": {},
     "output_type": "execute_result"
    }
   ],
   "source": [
    "sample_dict=dict()\n",
    "type(sample_dict)"
   ]
  },
  {
   "cell_type": "code",
   "execution_count": 110,
   "id": "9401dab0",
   "metadata": {},
   "outputs": [
    {
     "ename": "SyntaxError",
     "evalue": "invalid syntax (1832389203.py, line 1)",
     "output_type": "error",
     "traceback": [
      "\u001b[1;36m  Cell \u001b[1;32mIn[110], line 1\u001b[1;36m\u001b[0m\n\u001b[1;33m    sample_dict=dict{}\u001b[0m\n\u001b[1;37m                    ^\u001b[0m\n\u001b[1;31mSyntaxError\u001b[0m\u001b[1;31m:\u001b[0m invalid syntax\n"
     ]
    }
   ],
   "source": [
    "sample_dict=dict{}\n",
    "type(sample_dict)"
   ]
  },
  {
   "cell_type": "code",
   "execution_count": 111,
   "id": "c6eec94e",
   "metadata": {},
   "outputs": [
    {
     "name": "stdout",
     "output_type": "stream",
     "text": [
      "emp\n",
      "salary\n"
     ]
    }
   ],
   "source": [
    "#Question-29\n",
    "def display(**kwargs):\n",
    "    for i in kwargs:\n",
    "        print(i)\n",
    "display(emp='Kelly',salary=9000)"
   ]
  },
  {
   "cell_type": "code",
   "execution_count": 113,
   "id": "915e57f8",
   "metadata": {},
   "outputs": [
    {
     "name": "stdout",
     "output_type": "stream",
     "text": [
      "True\n",
      "True\n"
     ]
    }
   ],
   "source": [
    "#Question-33\n",
    "strOne=str('pynative')\n",
    "strTwo='pynative'\n",
    "print(strOne==strTwo)\n",
    "print (strOne is strTwo)"
   ]
  },
  {
   "cell_type": "code",
   "execution_count": 116,
   "id": "6b20d864",
   "metadata": {},
   "outputs": [
    {
     "name": "stdout",
     "output_type": "stream",
     "text": [
      "3\n"
     ]
    }
   ],
   "source": [
    "#Question 35\n",
    "x=0\n",
    "a=5\n",
    "b=5\n",
    "if a>0:\n",
    "    if b<0:\n",
    "        x=x+5\n",
    "    elif a>5:\n",
    "        x=x+4\n",
    "    else:\n",
    "        x=x+3\n",
    "else:\n",
    "    x=x+2\n",
    "print(x)"
   ]
  },
  {
   "cell_type": "code",
   "execution_count": 132,
   "id": "b59fb777",
   "metadata": {},
   "outputs": [
    {
     "name": "stdout",
     "output_type": "stream",
     "text": [
      "0      ash\n",
      "1      hem\n",
      "2       sn\n",
      "3    shubh\n",
      "4      nit\n",
      "5      nav\n",
      "6      sau\n",
      "Name: student, dtype: object\n",
      "0    1\n",
      "1    2\n",
      "2    3\n",
      "3    4\n",
      "4    5\n",
      "5    6\n",
      "6    7\n",
      "Name: ad_No., dtype: int64\n"
     ]
    }
   ],
   "source": [
    "import pandas as pd\n",
    "data={'student': pd.Series(['ash','hem','sn','shubh','nit','nav','sau']),'ad_No.':pd.Series([1,2,3,4,5,6,7]),\n",
    "      'phy':pd.Series([55,56,58,59,56,54,78]),'mat':pd.Series([58,15,48,59,98,54,23])}\n",
    "df=pd.DataFrame(data)\n",
    "df\n",
    "print(df['student'])\n",
    "print(df['ad_No.'])"
   ]
  },
  {
   "cell_type": "code",
   "execution_count": 120,
   "id": "e49ea0ae",
   "metadata": {},
   "outputs": [
    {
     "data": {
      "text/html": [
       "<div>\n",
       "<style scoped>\n",
       "    .dataframe tbody tr th:only-of-type {\n",
       "        vertical-align: middle;\n",
       "    }\n",
       "\n",
       "    .dataframe tbody tr th {\n",
       "        vertical-align: top;\n",
       "    }\n",
       "\n",
       "    .dataframe thead th {\n",
       "        text-align: right;\n",
       "    }\n",
       "</style>\n",
       "<table border=\"1\" class=\"dataframe\">\n",
       "  <thead>\n",
       "    <tr style=\"text-align: right;\">\n",
       "      <th></th>\n",
       "      <th>student</th>\n",
       "      <th>ad_No.</th>\n",
       "      <th>phy</th>\n",
       "      <th>mat</th>\n",
       "    </tr>\n",
       "  </thead>\n",
       "  <tbody>\n",
       "    <tr>\n",
       "      <th>0</th>\n",
       "      <td>ash</td>\n",
       "      <td>1</td>\n",
       "      <td>55</td>\n",
       "      <td>58</td>\n",
       "    </tr>\n",
       "    <tr>\n",
       "      <th>1</th>\n",
       "      <td>hem</td>\n",
       "      <td>2</td>\n",
       "      <td>56</td>\n",
       "      <td>15</td>\n",
       "    </tr>\n",
       "    <tr>\n",
       "      <th>2</th>\n",
       "      <td>sn</td>\n",
       "      <td>3</td>\n",
       "      <td>58</td>\n",
       "      <td>48</td>\n",
       "    </tr>\n",
       "    <tr>\n",
       "      <th>3</th>\n",
       "      <td>shubh</td>\n",
       "      <td>4</td>\n",
       "      <td>59</td>\n",
       "      <td>59</td>\n",
       "    </tr>\n",
       "    <tr>\n",
       "      <th>4</th>\n",
       "      <td>nit</td>\n",
       "      <td>5</td>\n",
       "      <td>56</td>\n",
       "      <td>98</td>\n",
       "    </tr>\n",
       "  </tbody>\n",
       "</table>\n",
       "</div>"
      ],
      "text/plain": [
       "  student  ad_No.  phy  mat\n",
       "0     ash       1   55   58\n",
       "1     hem       2   56   15\n",
       "2      sn       3   58   48\n",
       "3   shubh       4   59   59\n",
       "4     nit       5   56   98"
      ]
     },
     "execution_count": 120,
     "metadata": {},
     "output_type": "execute_result"
    }
   ],
   "source": [
    "df.head()"
   ]
  },
  {
   "cell_type": "code",
   "execution_count": null,
   "id": "70104884",
   "metadata": {},
   "outputs": [],
   "source": [
    "df"
   ]
  }
 ],
 "metadata": {
  "kernelspec": {
   "display_name": "Python 3 (ipykernel)",
   "language": "python",
   "name": "python3"
  },
  "language_info": {
   "codemirror_mode": {
    "name": "ipython",
    "version": 3
   },
   "file_extension": ".py",
   "mimetype": "text/x-python",
   "name": "python",
   "nbconvert_exporter": "python",
   "pygments_lexer": "ipython3",
   "version": "3.11.4"
  }
 },
 "nbformat": 4,
 "nbformat_minor": 5
}
